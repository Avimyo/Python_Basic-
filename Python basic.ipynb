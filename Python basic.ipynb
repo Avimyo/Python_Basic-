{
 "cells": [
  {
   "cell_type": "code",
   "execution_count": 1,
   "metadata": {},
   "outputs": [
    {
     "name": "stdout",
     "output_type": "stream",
     "text": [
      "Heloo world\n"
     ]
    }
   ],
   "source": [
    "print (\"Heloo world\")"
   ]
  },
  {
   "cell_type": "code",
   "execution_count": 48,
   "metadata": {},
   "outputs": [
    {
     "name": "stdout",
     "output_type": "stream",
     "text": [
      "My name is Abiral Bhattarai\n"
     ]
    }
   ],
   "source": [
    "#string\n",
    "N=\"Abiral\"\n",
    "B=\"Bhattarai\"\n",
    "print(\"My name is \" +N + \" \" + B)"
   ]
  },
  {
   "cell_type": "code",
   "execution_count": 3,
   "metadata": {},
   "outputs": [
    {
     "data": {
      "text/plain": [
       "'Abiral '"
      ]
     },
     "execution_count": 3,
     "metadata": {},
     "output_type": "execute_result"
    }
   ],
   "source": [
    "#slicing\n",
    "Ab=\"Abiral is very good boy \"\n",
    "# Ab[3]#sliced the specific letter\n",
    "Ab[0:7]#slicing a word,It silces my name"
   ]
  },
  {
   "cell_type": "code",
   "execution_count": 22,
   "metadata": {},
   "outputs": [
    {
     "name": "stdout",
     "output_type": "stream",
     "text": [
      "Carrots\n",
      "['Apple', 'Watermelon', 'Carrots', 'Orange']\n"
     ]
    }
   ],
   "source": [
    "#Lise Arrays\n",
    "shop=[\"Apple\",\"eggs\",\"Carrots\",\"Milk\"]\n",
    "print(shop[2])#getting the element in the list\n",
    "shop[3]=\"Orange\"#appends the list,correct the list\n",
    "shop[1]=\"Watermelon\"\n",
    "print(shop)\n"
   ]
  },
  {
   "cell_type": "code",
   "execution_count": 28,
   "metadata": {},
   "outputs": [
    {
     "name": "stdout",
     "output_type": "stream",
     "text": [
      "Number up to:\n",
      "2\n",
      "3\n",
      "4\n",
      "5\n",
      "6\n",
      "7\n",
      "8\n",
      "9\n",
      "10\n",
      "11\n",
      "12\n",
      "13\n",
      "14\n",
      "15\n"
     ]
    }
   ],
   "source": [
    "print ('Number up to:')\n",
    "for i in range(2,16):\n",
    "    print (i)"
   ]
  },
  {
   "cell_type": "code",
   "execution_count": 17,
   "metadata": {},
   "outputs": [
    {
     "name": "stdout",
     "output_type": "stream",
     "text": [
      "Enter a number to know whether it is prime or not\n",
      "2\n",
      "The number 2 is  prime\n"
     ]
    }
   ],
   "source": [
    "#to know whether the entered number is prime or not\n",
    "a=int(input(\"Enter a number to know whether it is prime or not\\n\"))\n",
    "count=0\n",
    "for i in range(2,a):\n",
    "    if (a%i==0):\n",
    "        count=1\n",
    "        break\n",
    "    i=i+1\n",
    "if (count==1):\n",
    "    print(\"The number \"+ str(a) +\" is not prime\")\n",
    "else:\n",
    "   print(\"The number \"+ str(a) +\" is  prime\")\n"
   ]
  },
  {
   "cell_type": "code",
   "execution_count": 3,
   "metadata": {},
   "outputs": [
    {
     "name": "stdout",
     "output_type": "stream",
     "text": [
      "Enter the number to find the range ?3\n",
      "0\n",
      "1\n",
      "2\n"
     ]
    }
   ],
   "source": [
    " a=int(input(\"Enter the number to find the range ?\"))\n",
    "for i in range(a):\n",
    "    print (i)"
   ]
  },
  {
   "cell_type": "code",
   "execution_count": 18,
   "metadata": {},
   "outputs": [
    {
     "name": "stdout",
     "output_type": "stream",
     "text": [
      "Enter the first number?445\n",
      "Enter the second number?65\n",
      "380\n"
     ]
    }
   ],
   "source": [
    "'''subtraction'''\n",
    "s=int(input(\"Enter the first number?\"))\n",
    "b=int(input(\"Enter the second number?\"))\n",
    "c=s-b\n",
    "print(c)\n"
   ]
  },
  {
   "cell_type": "code",
   "execution_count": 30,
   "metadata": {},
   "outputs": [
    {
     "name": "stdout",
     "output_type": "stream",
     "text": [
      "Enter the numbers to list25\n",
      "The list of the numbers\n",
      "[0, 1, 2, 3, 4, 5, 6, 7, 8, 9, 10, 11, 12, 13, 14, 15, 16, 17, 18, 19, 20, 21, 22, 23, 24]\n"
     ]
    }
   ],
   "source": [
    "b=int(input(\"Enter the numbers to list\"))\n",
    "print(\"The list of the numbers\")\n",
    "numbers=list(range(b))\n",
    "print(numbers)"
   ]
  },
  {
   "cell_type": "code",
   "execution_count": 7,
   "metadata": {},
   "outputs": [
    {
     "name": "stdout",
     "output_type": "stream",
     "text": [
      "heloo!\n",
      "world!\n",
      "spam!\n",
      "eggs!\n"
     ]
    }
   ],
   "source": [
    "words=[\"heloo\",\"world\",\"spam\",\"eggs\"]\n",
    "counter=0;\n",
    "max_index=len(words)-1\n",
    "\n",
    "while counter <= max_index:\n",
    "  word= words[counter]\n",
    "  print(word + \"!\")\n",
    "  counter = counter+1\n"
   ]
  },
  {
   "cell_type": "code",
   "execution_count": 14,
   "metadata": {},
   "outputs": [
    {
     "name": "stdout",
     "output_type": "stream",
     "text": [
      "Enter the number to check even or odd?\n",
      "976\n",
      "The number is even\n"
     ]
    }
   ],
   "source": [
    "a=int(input('Enter the number to check even or odd?\\n'))\n",
    "if(a%2==0):\n",
    "   print('The number is even')\n",
    "else:\n",
    "    print('The number is odd')"
   ]
  },
  {
   "cell_type": "code",
   "execution_count": 17,
   "metadata": {},
   "outputs": [
    {
     "name": "stdout",
     "output_type": "stream",
     "text": [
      "7\n"
     ]
    }
   ],
   "source": [
    "#funtion in python:\n",
    "def sum(a,b):\n",
    "    c=a+b\n",
    "    print(c)\n",
    "    \n",
    "a=4\n",
    "b=3\n",
    "sum(a,b)\n",
    "\n",
    "    "
   ]
  },
  {
   "cell_type": "code",
   "execution_count": 10,
   "metadata": {},
   "outputs": [
    {
     "data": {
      "text/plain": [
       "'It is Abiral'"
      ]
     },
     "execution_count": 10,
     "metadata": {},
     "output_type": "execute_result"
    }
   ],
   "source": [
    "#object oriented\n",
    "class Student:\n",
    "    def __init__(self,name,age,grade):\n",
    "        self.name=name\n",
    "        self.age=age\n",
    "        self.grade=grade\n",
    "    def display(self):\n",
    "       return (\"It is \"+self.name);\n",
    "\n",
    "s1=Student(\"Abiral\",24,\"6th\")\n",
    "s2=Student(\"Abiral\",23,\"645\")\n",
    "setattr(s1,\"grade\",\"5th\") #setter\n",
    "getattr(s2,\"age\")#getter\n",
    "hasattr(s1,\"age\")#argument checker\n",
    "delattr(s1,\"grade\")\n",
    "s1.display()"
   ]
  },
  {
   "cell_type": "code",
   "execution_count": 13,
   "metadata": {},
   "outputs": [
    {
     "name": "stdout",
     "output_type": "stream",
     "text": [
      "Child Class counter\n",
      "Child function\n",
      "Parent Function being called\n",
      "20\n"
     ]
    }
   ],
   "source": [
    "#inheritance in python\n",
    "class Parent:\n",
    "    counter=10\n",
    "    def __init__(self):\n",
    "        print (\"parent class\")\n",
    "    def parfunc(self):\n",
    "        print(\"Parent Function being called\")\n",
    "    def set(self,num):\n",
    "        Parent.counter=num\n",
    "        print(Parent.counter)\n",
    "    def showCounter(self):\n",
    "        print(str(Parent.counter))\n",
    "        \n",
    "class Child(Parent):#inheritance of the parent class\n",
    "    def __init__(self):#counter\n",
    "        print(\"Child Class counter\")\n",
    "    def childFunc(self):\n",
    "        print(\"Child function\")\n",
    "        \n",
    "c=Child()\n",
    "c.childFunc()\n",
    "c.parfunc()\n",
    "c.set(20)"
   ]
  },
  {
   "cell_type": "code",
   "execution_count": 39,
   "metadata": {},
   "outputs": [
    {
     "name": "stdout",
     "output_type": "stream",
     "text": [
      "This is a child function\n"
     ]
    }
   ],
   "source": [
    "#overriding\n",
    "class Parent:\n",
    "    def func(self):\n",
    "        print (\"This is a parent class\")\n",
    "class Child(Parent):\n",
    "    def func(self):\n",
    "        print(\"This is a child function\")\n",
    "c=Child()\n",
    "c.func()#the function overided\n"
   ]
  },
  {
   "cell_type": "code",
   "execution_count": 21,
   "metadata": {},
   "outputs": [
    {
     "name": "stdout",
     "output_type": "stream",
     "text": [
      "class rectangle\n"
     ]
    },
    {
     "data": {
      "text/plain": [
       "4"
      ]
     },
     "execution_count": 21,
     "metadata": {},
     "output_type": "execute_result"
    }
   ],
   "source": [
    "class Shape:\n",
    "     def __init__ (self,length):\n",
    "            self.length=length\n",
    "            print(\"class shape\")\n",
    "     def display (self):\n",
    "         return (self.length)      \n",
    "class Rectangle(Shape):\n",
    "    def __init__ (self,length,breadth):\n",
    "        self.breadth=breadth\n",
    "        print(\"class rectangle\")\n",
    "    def  display(self):\n",
    "         return(self.breadth)\n",
    "         Shape:display()\n",
    "class Circle(Shape):\n",
    "    def __init__ (self,radius,length):\n",
    "        self.radius=radius\n",
    "        print (\"class circle\")\n",
    "    def display (self):\n",
    "         return (self.radius)\n",
    "\n",
    "s1=Rectangle(10,4)\n",
    "s1.display()\n",
    "    "
   ]
  },
  {
   "cell_type": "code",
   "execution_count": 3,
   "metadata": {},
   "outputs": [
    {
     "name": "stdout",
     "output_type": "stream",
     "text": [
      "Entert the number  you want to save2343523452345\n",
      "2343523452345\n"
     ]
    }
   ],
   "source": [
    "number=input(\"Entert the number  you want to save\")\n",
    "print(number)"
   ]
  },
  {
   "cell_type": "code",
   "execution_count": 1,
   "metadata": {},
   "outputs": [
    {
     "name": "stdout",
     "output_type": "stream",
     "text": [
      "How many number you want to enter?2\n",
      "Enter the number=1\n",
      "Enter the number=2\n",
      "[1, 2]\n"
     ]
    }
   ],
   "source": [
    "#array algorithm \n",
    "a=int(input (\"How many number you want to enter?\"))\n",
    "numlist=list()\n",
    "for i in range (a):\n",
    "    x=int(input(\"Enter the number=\"))\n",
    "    numlist.append(int(x))\n",
    "print (numlist)"
   ]
  },
  {
   "cell_type": "code",
   "execution_count": 1,
   "metadata": {},
   "outputs": [
    {
     "name": "stdout",
     "output_type": "stream",
     "text": [
      "Enter the number1\n",
      "1\n",
      "2\n",
      "12"
     ]
    }
   ],
   "source": [
    "if __name__ == '__main__':\n",
    "    n = int(input(\"Enter the number\"))\n",
    "    a=0\n",
    "    for i in range(0,n+1):\n",
    "        a=(a*10)+i\n",
    "    \n",
    "    print (a)\n",
    "if __name__ == '__main__':\n",
    "    n = int(input())\n",
    "    for i in range(1,n+1):\n",
    "        print (i,end=\"\")"
   ]
  },
  {
   "cell_type": "code",
   "execution_count": 18,
   "metadata": {},
   "outputs": [
    {
     "name": "stdout",
     "output_type": "stream",
     "text": [
      "Enter the year you want to check2008\n",
      "It is a leap year\n",
      "None\n"
     ]
    }
   ],
   "source": [
    "#algorithm for leap year\n",
    "def is_leap(year):\n",
    "     \n",
    "    if(year%4==0):\n",
    "        print(\"It is a leap year\")\n",
    "    elif(year%4==0 and year%400==0):\n",
    "        print(\"It is not a leap year\")\n",
    "    else:\n",
    "        print(\"It is not a leap year\")\n",
    "year = int(input(\"Enter the year you want to check\"))\n",
    "print(is_leap(year))"
   ]
  },
  {
   "cell_type": "code",
   "execution_count": 21,
   "metadata": {},
   "outputs": [
    {
     "name": "stdout",
     "output_type": "stream",
     "text": [
      "2.0\n"
     ]
    }
   ],
   "source": [
    "#num py \n",
    "import numpy as np\n",
    "a=10\n",
    "b=5\n",
    "c=np.divide(a,b)\n",
    "print(c)"
   ]
  },
  {
   "cell_type": "code",
   "execution_count": 4,
   "metadata": {},
   "outputs": [
    {
     "name": "stdout",
     "output_type": "stream",
     "text": [
      "Appending The List\n",
      "['a', 'b', 'c', 'd', 'e', ['1', '2', '3']]\n",
      "Extending The List\n",
      "['a', 'b', 'c', 'd', 'e', '1', '2', '3']\n",
      "The list Comprehension\n",
      "['2', 'b']\n"
     ]
    }
   ],
   "source": [
    "#list\n",
    "#list basic in python\n",
    "mylist=['a','b','c','d','e']\n",
    "listTwo=['1','2','3']\n",
    "print(\"Appending The List\")\n",
    "mylist.append(listTwo)\n",
    "print(mylist)\n",
    "mylist2=['a','b','c','d','e']\n",
    "print(\"Extending The List\")\n",
    "mylist2.extend(listTwo)#extending the list\n",
    "print (mylist2)\n",
    "#list comprehension\n",
    "Data=[['1', '2', '3'],['a', 'b', 'c']]\n",
    "name=[row[1] for row in Data]\n",
    "print(\"The list Comprehension\")\n",
    "print(name)\n"
   ]
  },
  {
   "cell_type": "code",
   "execution_count": 25,
   "metadata": {},
   "outputs": [
    {
     "name": "stdout",
     "output_type": "stream",
     "text": [
      "1\n",
      "2\n",
      "3\n",
      "4\n",
      "5\n",
      "the answer is \n",
      "[1, 2, 3, 4, 5]\n",
      "3\n",
      "15\n"
     ]
    }
   ],
   "source": [
    "import numpy as np\n",
    "num_array=list()\n",
    "for i in range (0,5):\n",
    "    q=input()\n",
    "    num_array.append(int(q))\n",
    "print(\"the answer is \")\n",
    "print(num_array)\n",
    "a=np.sort(num_array)#descending order\n",
    "print(a[c])\n",
    "print(np.sum(a))\n",
    "\n"
   ]
  },
  {
   "cell_type": "code",
   "execution_count": 4,
   "metadata": {},
   "outputs": [
    {
     "name": "stdout",
     "output_type": "stream",
     "text": [
      "4\n",
      "10 20 20 30\n",
      "20.0\n",
      "20.0\n",
      "20\n"
     ]
    }
   ],
   "source": [
    "import numpy as np\n",
    "from scipy import stats\n",
    "n=int(input())\n",
    "arr= list(map(int, input().split()))\n",
    "me=np.sum(arr)\n",
    "mef=float(me/n)\n",
    "print(mef)\n",
    "a=np.sort(arr)\n",
    "d=int(n/2)\n",
    "b=int(d-1)\n",
    "c=a[d]+a[b]\n",
    "print(c/2)\n",
    "m = stats.mode(arr)\n",
    "print(int(m[0]))"
   ]
  },
  {
   "cell_type": "code",
   "execution_count": null,
   "metadata": {},
   "outputs": [],
   "source": [
    "n=input()\n",
    "n.up()"
   ]
  },
  {
   "cell_type": "code",
   "execution_count": 43,
   "metadata": {},
   "outputs": [
    {
     "name": "stdout",
     "output_type": "stream",
     "text": [
      "5\n"
     ]
    }
   ],
   "source": [
    "\n",
    "from collections import Counter \n",
    "  \n",
    "def countDistinct(arr): \n",
    "  \n",
    "    # counter method gives dictionary of elements in list \n",
    "    # with their corresponding frequency. \n",
    "    # using keys() method of dictionary data structure \n",
    "    # we can count distinct values in array \n",
    "    return len(Counter(arr).keys())     \n",
    "  \n",
    "if __name__==\"__main__\": \n",
    "    arr = ['N','E','P','E','A','L'] \n",
    "    print (countDistinct(arr)) "
   ]
  },
  {
   "cell_type": "code",
   "execution_count": 78,
   "metadata": {},
   "outputs": [
    {
     "name": "stdout",
     "output_type": "stream",
     "text": [
      "9\n"
     ]
    }
   ],
   "source": [
    "def num_of_alpha(x):\n",
    "    x.upper()\n",
    "    a=list(x)\n",
    "    return len(Counter(a).keys()) \n",
    "b=num_of_alpha(\"Netherland\")\n",
    "print(b)"
   ]
  },
  {
   "cell_type": "code",
   "execution_count": 98,
   "metadata": {},
   "outputs": [
    {
     "name": "stdout",
     "output_type": "stream",
     "text": [
      "Heloo\n"
     ]
    }
   ],
   "source": [
    "a=1\n",
    "b=1\n",
    "if a==b:\n",
    "    print(\"Heloo\")"
   ]
  },
  {
   "cell_type": "code",
   "execution_count": 14,
   "metadata": {},
   "outputs": [
    {
     "name": "stdout",
     "output_type": "stream",
     "text": [
      "4\n",
      "[5, 10, 13, 14]\n"
     ]
    }
   ],
   "source": [
    "b=list()\n",
    "a = [32, 37, 28, 30, 37,55, 25, 27, 24, 35, 55, 23, 31, 55, 55,21, 40, 18, 50,\n",
    "             35, 41, 49, 37, 19, 40, 41, 31]\n",
    "m=(max(a))\n",
    "b=[i for i, j in enumerate(a) if j == m]\n",
    "c=len(b)\n",
    "print(c)\n",
    "print(b)"
   ]
  },
  {
   "cell_type": "code",
   "execution_count": 21,
   "metadata": {},
   "outputs": [
    {
     "name": "stdout",
     "output_type": "stream",
     "text": [
      "1\n",
      "0\n"
     ]
    }
   ],
   "source": [
    "# This february, you want to give an international gift to someone. But the main problem is that you know nothing about which country produce best product since you dont use the product. Willing to take a gamble, you decided to choose a country name in a fun way.\n",
    "\n",
    "# The best country is the country with the name containing the greatest number of different alphabet letters. (The country uses the English alphabet from A through Z.)\n",
    "\n",
    "# For example, the name Nepal has five different alphabet letters: N, E, P,A and L. The name Netherlands has 9 letters N, E, T, H, R, L, A, D, S. If your gift options only consists of these 2 country, Netherlands would be the leader.\n",
    "\n",
    "# If there is a tie, the country whose name comes earliest in alphabetical order is the leader.\n",
    "\n",
    "# Given a list of names of the country, can you determine which country's gift will you buy?\n",
    "def num_of_alpha(x):\n",
    "    b=x.upper()\n",
    "    a=list(b)\n",
    "    c=set(a)\n",
    "    k=len(c)\n",
    "    return k\n",
    "    \n",
    "     \n",
    "\n",
    "count=0\n",
    "location=0\n",
    "cases=list()\n",
    "b=list()\n",
    "n=int(input())\n",
    "for i in range(0,n):\n",
    "    cn1=int(input())\n",
    "    if cn1==0 :\n",
    "        break \n",
    "    else:  \n",
    "        count=count+1\n",
    "        country=list()\n",
    "        diffAlpha=list()\n",
    "        for i in range(0,cn1):\n",
    "            q=str(input())\n",
    "            country.append(str(q))\n",
    "        for i in range(0,cn1):\n",
    "            k=num_of_alpha(country[i])\n",
    "            diffAlpha.append(int(k))\n",
    "#     greatest[i].append(diffAlpha[0])\n",
    "#     for i in range(0,cn1):\n",
    "#         print(diffAlpha[i])\n",
    "        m=(max(diffAlpha))\n",
    "        b=[i for i, j in enumerate(diffAlpha) if j == m]\n",
    "        c=len(b)\n",
    "        if  c== 1:\n",
    "            location=b[0]\n",
    "            cases.append(country[location])\n",
    "        if c>1:\n",
    "            coun=list()\n",
    "            coun.append(country[b[i]])\n",
    "            b=sorted(coun)\n",
    "            cases.append(b[0])\n",
    "            \n",
    "        \n",
    "            \n",
    "            \n",
    "    \n",
    "            \n",
    "  \n",
    "        \n",
    "\n",
    "        \n",
    "for i in range(0,count):\n",
    "    a=i+1\n",
    "    print(\"Case #\"+str(a)+\": \"+ cases[i])\n",
    "\n",
    "  \n"
   ]
  },
  {
   "cell_type": "code",
   "execution_count": 9,
   "metadata": {},
   "outputs": [
    {
     "name": "stdout",
     "output_type": "stream",
     "text": [
      "0\n",
      "1\n"
     ]
    }
   ],
   "source": [
    "n=2\n",
    "for i in range(0,n):\n",
    "    print(i)"
   ]
  },
  {
   "cell_type": "code",
   "execution_count": 37,
   "metadata": {},
   "outputs": [
    {
     "name": "stdout",
     "output_type": "stream",
     "text": [
      "Abiral\n"
     ]
    }
   ],
   "source": [
    "import numpy as np\n",
    "a=['Abiral','Zebra',\"Bosnia\"]\n",
    "b=sorted(a)\n",
    "print (b[0])"
   ]
  },
  {
   "cell_type": "code",
   "execution_count": 46,
   "metadata": {},
   "outputs": [
    {
     "name": "stdout",
     "output_type": "stream",
     "text": [
      "4\n"
     ]
    }
   ],
   "source": [
    "# int count = arr_size;\n",
    "#     int current;\n",
    "#     int i, j;\n",
    "#     for (i = 0; i < arr_size; i++){\n",
    "#         current = arr[i];\n",
    "#         for (j = i+1; j < arr_size; j++) // checks values after [i]th element.\n",
    "#             if (current == arr[j])\n",
    "#                 --count; // decrease count by 1;\n",
    "#     }\n",
    "\n",
    "#     if (count >= 0)\n",
    "#         return count;\n",
    "#     else return 0;\n",
    "# }\n",
    "a=['A','B','C','D','B']\n",
    "c=set(a)\n",
    "b=len(c)\n",
    "print(b)\n",
    "\n"
   ]
  },
  {
   "cell_type": "code",
   "execution_count": 15,
   "metadata": {},
   "outputs": [
    {
     "name": "stdout",
     "output_type": "stream",
     "text": [
      "[['00', '00', '10,9856047680']]\n"
     ]
    }
   ],
   "source": [
    "a=list()\n",
    "word=\"00:00:10,9856047680\"\n",
    "a.append(word.split(':'))\n",
    "print(a)"
   ]
  },
  {
   "cell_type": "code",
   "execution_count": 19,
   "metadata": {},
   "outputs": [
    {
     "name": "stdout",
     "output_type": "stream",
     "text": [
      "3\n",
      "1 3 5\n",
      "2 4 6\n",
      "3.7\n"
     ]
    }
   ],
   "source": [
    "#weighted mean\n",
    "\n",
    "a=0\n",
    "N=int(input())\n",
    "X= list(map(int, input().split()))\n",
    "W= list(map(int, input().split()))\n",
    "for i in range (0,N):\n",
    "    b=X[i]*W[i]\n",
    "    a=a+b\n",
    "b=sum(W)\n",
    "c=a/b\n",
    "print(round(c, 1))\n",
    "    \n",
    "\n"
   ]
  },
  {
   "cell_type": "code",
   "execution_count": null,
   "metadata": {},
   "outputs": [],
   "source": [
    "2"
   ]
  }
 ],
 "metadata": {
  "kernelspec": {
   "display_name": "Python 3",
   "language": "python",
   "name": "python3"
  },
  "language_info": {
   "codemirror_mode": {
    "name": "ipython",
    "version": 3
   },
   "file_extension": ".py",
   "mimetype": "text/x-python",
   "name": "python",
   "nbconvert_exporter": "python",
   "pygments_lexer": "ipython3",
   "version": "3.6.7"
  }
 },
 "nbformat": 4,
 "nbformat_minor": 2
}
